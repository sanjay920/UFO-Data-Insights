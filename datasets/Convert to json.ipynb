{
 "cells": [
  {
   "cell_type": "code",
   "execution_count": 1,
   "metadata": {
    "collapsed": true
   },
   "outputs": [],
   "source": [
    "import pandas as pd"
   ]
  },
  {
   "cell_type": "code",
   "execution_count": 3,
   "metadata": {},
   "outputs": [],
   "source": [
    "df = pd.read_csv(\"UFO_sightings.csv\")"
   ]
  },
  {
   "cell_type": "code",
   "execution_count": 4,
   "metadata": {},
   "outputs": [
    {
     "data": {
      "text/plain": [
       "41972"
      ]
     },
     "execution_count": 4,
     "metadata": {},
     "output_type": "execute_result"
    }
   ],
   "source": [
    "len(df)"
   ]
  },
  {
   "cell_type": "code",
   "execution_count": 9,
   "metadata": {},
   "outputs": [
    {
     "data": {
      "text/plain": [
       "'{\"14489\":{\"id\":23040,\"description\":\"A mysterious light moved slowly and changed color going in a straight line without going up or down an inch.It was a cold, brisk night, I was on the internet when I decided to step outside for some air. Since I live in a valley there is hills around me so I was just looking around and in front of one hill about 3\\\\/5 a mile away I saw an intense light in a spherical shape. The light traveled left from my view point and stayed on a perfect line not going up or down an inch. The light traveled very slowly, not even reaching 10 m.p.h. as it was going the light changed colors: blue,white,green,red, and some mixes of the colors. After traveling about a hundred feet in about 2-3 minutes it stopped and continued to change color, never going up or down at all. My mother and sister both observed it and we decided to see if we could get close to where we had last seen it. After about 30 minutes of searching we didn&apos;t find anything even after going right by where the phenomenon had been. When we got home I looked back out side and the craft was there, It hadn&apos;t moved an inch since we went searching for it, there must have been some kind of nearby cloaking system or something. I decided to just let it go and go to sleep. Any way I have seen many in the area around this valley that I live in, maybe there is something special about it, besides the hundreds of acres of farmland.((NUFORC Note:  Date is approximate.  PD))\",\"duration\":\"7 minutes\",\"location\":\" Slatington, PA\",\"reported_at\":20031216,\"shape\":\" circle\",\"sighted_at\":20020215,\"geocoded_latitude\":40.7484285,\"geocoded_longitude\":-75.6118529,\"city\":\"Slatington\",\"state\":\"Pennsylvania\",\"country\":\"us\",\"closest_LARGE_airport_distance\":29.6755529432,\"closest_MEDIUM_airport_distance\":11.9273700873,\"closest_SMALL_airport_distance\":0.5463637677,\"closest_metro_distance\":33.9159911846,\"closest_metro_pop\":5595000.0,\"closest_metro_m4\":4.0,\"closest_metro_m6\":5.0,\"population\":12281054.0,\"meteor_sighting\":0.0,\"text\":null,\"lat\":null,\"lon\":null,\"named_entities\":null,\"date\":null,\"Country\":null,\"URL\":null,\"Captions\":null,\"Class\":null,\"Class_1\":null,\"Class_2\":null,\"Class_3\":null,\"Class_4\":null,\"Class_5\":null,\"Class_6\":null,\"Class_7\":null}}'"
      ]
     },
     "execution_count": 9,
     "metadata": {},
     "output_type": "execute_result"
    }
   ],
   "source": [
    "df.sample(1).to_json(orient='index')"
   ]
  },
  {
   "cell_type": "code",
   "execution_count": null,
   "metadata": {
    "collapsed": true
   },
   "outputs": [],
   "source": []
  }
 ],
 "metadata": {
  "kernelspec": {
   "display_name": "Python 2",
   "language": "python",
   "name": "python2"
  },
  "language_info": {
   "codemirror_mode": {
    "name": "ipython",
    "version": 2
   },
   "file_extension": ".py",
   "mimetype": "text/x-python",
   "name": "python",
   "nbconvert_exporter": "python",
   "pygments_lexer": "ipython2",
   "version": "2.7.14"
  }
 },
 "nbformat": 4,
 "nbformat_minor": 2
}
